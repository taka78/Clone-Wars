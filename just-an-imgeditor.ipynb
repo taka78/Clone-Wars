{
 "cells": [
  {
   "cell_type": "code",
   "execution_count": 9,
   "metadata": {},
   "outputs": [
    {
     "name": "stdout",
     "output_type": "stream",
     "text": [
      "0\n",
      "3\n",
      "19\n",
      "72\n",
      "163\n",
      "233\n"
     ]
    }
   ],
   "source": [
    "import os\n",
    "import numpy as np\n",
    "from PIL import Image\n",
    "img = Image.open(open(\"jedi_council.jpg\",'rb'))\n",
    "resized_img = img.resize((round(img.size[0]*0.25), round(img.size[1]*0.25)))\n",
    "resized_img.save('little_jedi_council_but_only_25%_powerfull.jpg')\n",
    "###############################That's how it should be#####################################################\n",
    "#wanted_quality = (10,30,50,75,90,95) #as percentage\n",
    "#for i in wanted_quality:\n",
    "#    saviour_kenobi = str(i)\n",
    "#    resized_img.save('little_jedi_council_but_only_25%_powerfull_and_%'+ saviour_kenobi +'less_qualified.jpg', quality=i)\n",
    "#print(\"All wanted qualities has been saved on the parent directory.\")\n",
    "###############################That's how it should be#####################################################\n",
    "the_jedi_council = Image.open(open(\"little_jedi_council_but_only_25%_powerfull.jpg\",'rb'))\n",
    "jedi_masters_and_anakin = np.asarray(the_jedi_council)\n",
    "[ahsoka, rex, cody] = np.linalg.svd(jedi_masters_and_anakin)\n",
    "grand_army_of_the_republic = np.sum(rex) #that's kinda accurate\n",
    "wanted_quality = (10,30,50,75,90,95) #as percentage\n",
    "for i in wanted_quality:\n",
    "    our_brothers_born_in_kamino = grand_army_of_the_republic*i/100\n",
    "    a_million_more_on_the_way = 0\n",
    "    saviour_kenobi = str(i)\n",
    "    for t in range(rex.shape[0]):\n",
    "        a_million_more_on_the_way += rex[t]\n",
    "        if(a_million_more_on_the_way>our_brothers_born_in_kamino):\n",
    "            print(t)\n",
    "            break\n",
    "    ampliutude_of_the_clone_wars = t\n",
    "    jedi_generals = np.empty(jedi_masters_and_anakin.shape)\n",
    "    saviour_kenobi = str(i)\n",
    "    for k in range(ampliutude_of_the_clone_wars):\n",
    "        jedi_generals += rex[k]*np.dot(np.array([ahsoka[:,k]]).T, np.array([cody[k,:]]))\n",
    "    the_jedi_councily = Image.fromarray(jedi_generals)\n",
    "    the_jedi_councily = the_jedi_councily.convert(\"L\")\n",
    "    LIST_OF_THE_ORDER66 = the_jedi_councily.save('jedi_council_but_only_25%_powerfull_and_%'+ saviour_kenobi +'corrupted.jpg')"
   ]
  },
  {
   "cell_type": "code",
   "execution_count": null,
   "metadata": {},
   "outputs": [],
   "source": []
  },
  {
   "cell_type": "code",
   "execution_count": null,
   "metadata": {},
   "outputs": [],
   "source": []
  }
 ],
 "metadata": {
  "kernelspec": {
   "display_name": "Python 3",
   "language": "python",
   "name": "python3"
  },
  "language_info": {
   "codemirror_mode": {
    "name": "ipython",
    "version": 3
   },
   "file_extension": ".py",
   "mimetype": "text/x-python",
   "name": "python",
   "nbconvert_exporter": "python",
   "pygments_lexer": "ipython3",
   "version": "3.8.5"
  }
 },
 "nbformat": 4,
 "nbformat_minor": 4
}
